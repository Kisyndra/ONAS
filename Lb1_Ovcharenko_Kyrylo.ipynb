{
 "cells": [
  {
   "cell_type": "code",
   "execution_count": 4,
   "metadata": {},
   "outputs": [
    {
     "name": "stdout",
     "output_type": "stream",
     "text": [
      "Hello Python world!\n"
     ]
    }
   ],
   "source": [
    "message = \"Hello Python world!\"\n",
    "print(message)"
   ]
  },
  {
   "cell_type": "code",
   "execution_count": 5,
   "metadata": {},
   "outputs": [
    {
     "name": "stdout",
     "output_type": "stream",
     "text": [
      "Hello Python world!\n",
      "Python is my favorite language!\n"
     ]
    }
   ],
   "source": [
    "message = \"Hello Python world!\"\n",
    "print(message)\n",
    "message = \"Python is my favorite language!\"\n",
    "print(message)"
   ]
  },
  {
   "cell_type": "code",
   "execution_count": 7,
   "metadata": {},
   "outputs": [
    {
     "name": "stdout",
     "output_type": "stream",
     "text": [
      "dzobri nich\n"
     ]
    }
   ],
   "source": [
    "message = \"dzobri nich\"\n",
    "print(message)"
   ]
  },
  {
   "cell_type": "code",
   "execution_count": 8,
   "metadata": {},
   "outputs": [
    {
     "name": "stdout",
     "output_type": "stream",
     "text": [
      "This is a single-quoted string.\n"
     ]
    }
   ],
   "source": [
    "my_string = \"This is a double-quoted string.\"\n",
    "my_string = 'This is a single-quoted string.'\n",
    "print(my_string)"
   ]
  },
  {
   "cell_type": "code",
   "execution_count": 9,
   "metadata": {},
   "outputs": [
    {
     "name": "stdout",
     "output_type": "stream",
     "text": [
      "Looking at the sky, just say, “I don’t know where all this comes from,” and don’t make up fables.'\n"
     ]
    }
   ],
   "source": [
    "quote = \"Looking at the sky, just say, “I don’t know where all this comes from,” and don’t make up fables.'\"\n",
    "print(quote)"
   ]
  },
  {
   "cell_type": "code",
   "execution_count": 11,
   "metadata": {},
   "outputs": [
    {
     "name": "stdout",
     "output_type": "stream",
     "text": [
      "kyrylo\n",
      "Kyrylo\n"
     ]
    }
   ],
   "source": [
    "first_name = 'kyrylo'\n",
    "print(first_name)\n",
    "print(first_name.title())"
   ]
  },
  {
   "cell_type": "code",
   "execution_count": 12,
   "metadata": {},
   "outputs": [
    {
     "name": "stdout",
     "output_type": "stream",
     "text": [
      "kyrylo\n",
      "Kyrylo\n",
      "KYRYLO\n"
     ]
    }
   ],
   "source": [
    "first_name = 'kyrylo'\n",
    "print(first_name)\n",
    "print(first_name.title())\n",
    "print(first_name.upper())"
   ]
  },
  {
   "cell_type": "code",
   "execution_count": 13,
   "metadata": {},
   "outputs": [
    {
     "name": "stdout",
     "output_type": "stream",
     "text": [
      "kyrylo\n"
     ]
    }
   ],
   "source": [
    "first_name = 'Kyrylo'\n",
    "print(first_name.lower())"
   ]
  },
  {
   "cell_type": "code",
   "execution_count": 14,
   "metadata": {},
   "outputs": [
    {
     "name": "stdout",
     "output_type": "stream",
     "text": [
      "Kyrylo Ovcharenko\n"
     ]
    }
   ],
   "source": [
    "first_name = 'Kyrylo'\n",
    "last_name = 'Ovcharenko'\n",
    "full_name = first_name + ' ' + last_name\n",
    "print(full_name.title())\n"
   ]
  },
  {
   "cell_type": "code",
   "execution_count": 15,
   "metadata": {},
   "outputs": [
    {
     "name": "stdout",
     "output_type": "stream",
     "text": [
      "Kyrylo Ovcharenko Student KN 3.1.03\n"
     ]
    }
   ],
   "source": [
    "first_name = 'Kyrylo'\n",
    "last_name = 'Ovcharenko'\n",
    "full_name = first_name + ' ' + last_name\n",
    "message = full_name.title() + ' ' + \"Student KN 3.1.03\"\n",
    "print(message)"
   ]
  },
  {
   "cell_type": "code",
   "execution_count": 16,
   "metadata": {},
   "outputs": [
    {
     "name": "stdout",
     "output_type": "stream",
     "text": [
      "Kyrylo\n",
      "\tKyrylo\n",
      "Kyr \tylo\n"
     ]
    }
   ],
   "source": [
    "print(\"Kyrylo\")\n",
    "print(\"\\tKyrylo\")\n",
    "print(\"Kyr \\tylo\")"
   ]
  },
  {
   "cell_type": "code",
   "execution_count": 17,
   "metadata": {},
   "outputs": [
    {
     "name": "stdout",
     "output_type": "stream",
     "text": [
      "Kyrylo\n",
      "\n",
      "Kyrylo\n",
      "Kyr \n",
      "ylo\n",
      "\n",
      "\n",
      "\n",
      "Kyrylo\n"
     ]
    }
   ],
   "source": [
    "print(\"Kyrylo\")\n",
    "print(\"\\nKyrylo\")\n",
    "print(\"Kyr \\nylo\")\n",
    "print(\"\\n\\n\\nKyrylo\")"
   ]
  },
  {
   "cell_type": "code",
   "execution_count": 18,
   "metadata": {
    "scrolled": true
   },
   "outputs": [
    {
     "name": "stdout",
     "output_type": "stream",
     "text": [
      "kyrylo\n",
      "kyrylo\n",
      "kyrylo\n"
     ]
    }
   ],
   "source": [
    "name = 'kyrylo'\n",
    "print(name.lstrip())\n",
    "print(name.rstrip())\n",
    "print(name.strip())"
   ]
  },
  {
   "cell_type": "code",
   "execution_count": 19,
   "metadata": {},
   "outputs": [
    {
     "name": "stdout",
     "output_type": "stream",
     "text": [
      "Спокойно сидя у реки, можно увидеть проплывающее тело врага.\n"
     ]
    }
   ],
   "source": [
    "quote = \"Спокойно сидя у реки, можно увидеть проплывающее тело врага.\"\n",
    "print(quote)"
   ]
  },
  {
   "cell_type": "code",
   "execution_count": 20,
   "metadata": {},
   "outputs": [
    {
     "name": "stdout",
     "output_type": "stream",
     "text": [
      " Pink Guy became joji\n"
     ]
    }
   ],
   "source": [
    "first_name = ' Pink'\n",
    "last_name = 'Guy'\n",
    "full_name = first_name + ' ' + last_name\n",
    "message = full_name.title() + ' ' + \"became joji\"\n",
    "print(message)"
   ]
  },
  {
   "cell_type": "code",
   "execution_count": 21,
   "metadata": {
    "scrolled": true
   },
   "outputs": [
    {
     "name": "stdout",
     "output_type": "stream",
     "text": [
      "5\n",
      "1\n",
      "6\n",
      "1.5\n",
      "9\n"
     ]
    }
   ],
   "source": [
    "print(3+2)\n",
    "print(3-2)\n",
    "print(3*2)\n",
    "print(3/2)\n",
    "print(3**2)"
   ]
  },
  {
   "cell_type": "code",
   "execution_count": 23,
   "metadata": {},
   "outputs": [
    {
     "name": "stdout",
     "output_type": "stream",
     "text": [
      "7\n",
      "9\n"
     ]
    }
   ],
   "source": [
    "standard_order = 1+2*3\n",
    "print(standard_order)\n",
    "my_order = (1+2)*3\n",
    "print(my_order)"
   ]
  },
  {
   "cell_type": "code",
   "execution_count": 24,
   "metadata": {},
   "outputs": [
    {
     "name": "stdout",
     "output_type": "stream",
     "text": [
      "0.2\n"
     ]
    }
   ],
   "source": [
    "print(0.1+0.1)"
   ]
  },
  {
   "cell_type": "code",
   "execution_count": 25,
   "metadata": {},
   "outputs": [
    {
     "name": "stdout",
     "output_type": "stream",
     "text": [
      "This line is not a comment, it is code.\n"
     ]
    }
   ],
   "source": [
    "# This line is a comment.\n",
    "print(\"This line is not a comment, it is code.\")"
   ]
  },
  {
   "cell_type": "code",
   "execution_count": 26,
   "metadata": {
    "scrolled": true
   },
   "outputs": [
    {
     "name": "stdout",
     "output_type": "stream",
     "text": [
      "\n",
      "Face, Syndra!\n",
      "Thx, bruh.\n",
      "\n",
      "Face, Eddy!\n",
      "Thx, bruh.\n",
      "\n",
      "Face, Dushka!\n",
      "Thx, bruh.\n"
     ]
    }
   ],
   "source": [
    "def thank_you(name):\n",
    "# This function prints a two-line personalized thank you message.\n",
    "    print(\"\\nFace, %s!\" % name)\n",
    "    print(\"Thx, bruh.\")\n",
    "thank_you('Syndra')\n",
    "thank_you('Eddy')\n",
    "thank_you('Dushka')"
   ]
  },
  {
   "cell_type": "code",
   "execution_count": 28,
   "metadata": {
    "scrolled": true
   },
   "outputs": [
    {
     "name": "stdout",
     "output_type": "stream",
     "text": [
      "0 None\n",
      "1 One\n",
      "2 Two\n",
      "3 Three\n"
     ]
    }
   ],
   "source": [
    "def get_number_word(number):\n",
    "# Takes in a numerical value, and returns\n",
    "# the word corresponding to that number.\n",
    "    if number == 1:\n",
    "        return 'One'\n",
    "    elif number == 2:\n",
    "        return 'Two'\n",
    "    elif number == 3:\n",
    "        return 'Three'\n",
    "# ...\n",
    "# Let's try out our function.\n",
    "for current_number  in range(0,4):\n",
    "    number_word = get_number_word(current_number)\n",
    "    print(current_number, number_word)"
   ]
  },
  {
   "cell_type": "code",
   "execution_count": 29,
   "metadata": {},
   "outputs": [
    {
     "name": "stdout",
     "output_type": "stream",
     "text": [
      "Hello, Frank!\n",
      "Hello, Van!\n",
      "Hello, Billy!\n"
     ]
    }
   ],
   "source": [
    "students = ['frank', 'van', 'billy']\n",
    "for student in students:\n",
    "    print(\"Hello, \" + student.title() + \"!\")"
   ]
  },
  {
   "cell_type": "code",
   "execution_count": 30,
   "metadata": {},
   "outputs": [
    {
     "name": "stdout",
     "output_type": "stream",
     "text": [
      "Chaw Chaw\n"
     ]
    }
   ],
   "source": [
    "dogs = ['chaw chaw', 'italian greyhound', 'shepherd']\n",
    "dog = dogs[0]\n",
    "print(dog.title())"
   ]
  },
  {
   "cell_type": "code",
   "execution_count": 31,
   "metadata": {},
   "outputs": [
    {
     "name": "stdout",
     "output_type": "stream",
     "text": [
      "Shepherd\n"
     ]
    }
   ],
   "source": [
    "dogs = ['chaw chaw', 'italian greyhound', 'shepherd']\n",
    "dog = dogs[-1]\n",
    "print(dog.title())"
   ]
  },
  {
   "cell_type": "code",
   "execution_count": 32,
   "metadata": {
    "scrolled": true
   },
   "outputs": [
    {
     "name": "stdout",
     "output_type": "stream",
     "text": [
      "chaw chaw\n",
      "italian greyhound\n",
      "shepherd\n"
     ]
    }
   ],
   "source": [
    "dogs = ['chaw chaw', 'italian greyhound', 'shepherd']\n",
    "for dog in dogs:\n",
    "    print(dog)"
   ]
  },
  {
   "cell_type": "code",
   "execution_count": 33,
   "metadata": {
    "scrolled": true
   },
   "outputs": [
    {
     "name": "stdout",
     "output_type": "stream",
     "text": [
      "Results for the dog show are as follows:\n",
      "\n",
      "Place: 0 Dog: Chaw Chaw\n",
      "Place: 1 Dog: Italian Greyhound\n",
      "Place: 2 Dog: Shepherd\n"
     ]
    }
   ],
   "source": [
    "dogs = ['chaw chaw', 'italian greyhound', 'shepherd']\n",
    "print(\"Results for the dog show are as follows:\\n\")\n",
    "for index, dog in enumerate(dogs):\n",
    "    place = str(index)\n",
    "    print(\"Place: \" + place + \" Dog: \" + dog.title())"
   ]
  }
 ],
 "metadata": {
  "kernelspec": {
   "display_name": "Python 3",
   "language": "python",
   "name": "python3"
  },
  "language_info": {
   "codemirror_mode": {
    "name": "ipython",
    "version": 3
   },
   "file_extension": ".py",
   "mimetype": "text/x-python",
   "name": "python",
   "nbconvert_exporter": "python",
   "pygments_lexer": "ipython3",
   "version": "3.8.3"
  }
 },
 "nbformat": 4,
 "nbformat_minor": 4
}
